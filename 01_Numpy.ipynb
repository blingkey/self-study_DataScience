{
 "cells": [
  {
   "cell_type": "markdown",
   "id": "ad358969",
   "metadata": {},
   "source": [
    "# ▪ numpy란? \n",
    "→ num(numerical) + py(python) : 숫자와 관련한 파이썬 도구\n",
    "## · numpy가 데이터 사이언스에서 중요한 이유?\n",
    "→ numpy는 numpy배열(numpy array)라는 자료형 제공 = 파이썬 리스트"
   ]
  },
  {
   "cell_type": "markdown",
   "id": "edb9e1d0",
   "metadata": {},
   "source": [
    "# ▪ numpy array를 만드는 다양한 방법\n",
    "## · np.array 파이썬 리스트를 통해 생성\n",
    "`numpy` 모듈의 `array` 메소드에 파라미터로 `파이썬 리스트`를 넘겨주면 numpy array가 리턴됩니다.\n",
    "```\n",
    "array1 = numpy.array([2, 3, 5, 7, 11, 13, 17, 19, 23, 29, 31])\n",
    "    \n",
    "print(array1)\n",
    "```\n",
    "```\n",
    "[ 2  3  5  7 11 13 17 19 23 29 31]\n",
    "```\n",
    "\n",
    "## · 균일한 값으로 생성\n",
    "### np.full 모든 값이 같은 numpy array 생성\n",
    "`numpy` 모듈의 `full` 메소드를 사용하면, 모든 값이 같은 numpy array를 생성할 수 있습니다.\n",
    "```\n",
    "array1 = numpy.full(6, 7)\n",
    "    \n",
    "print(array1)\n",
    "```\n",
    "```\n",
    "[7 7 7 7 7 7]\n",
    "```\n",
    "### np.zeros 모든 값이 0인 numpy array 생성\n",
    "모든 값이 `0`인 numpy array를 생성하기 위해서는 `full` 메소드를 사용하면 되겠죠. 하지만 사실은 더 간편한 방법이 있습니다.\n",
    "```\n",
    "array1 = numpy.full(6, 0)\n",
    "array2 = numpy.zeros(6, dtype=int)\n",
    "    \n",
    "print(array1)\n",
    "print()\n",
    "print(array2)\n",
    "```\n",
    "```\n",
    "[0 0 0 0 0 0]\n",
    "\n",
    "[0 0 0 0 0 0]\n",
    "```\n",
    "### np.ones 모든 값이 1인 numpy array 생성\n",
    "모든 값이 `1`인 numpy array를 생성하는 것도 비슷합니다. `zeros` 메소드 대신 `ones`를 사용하면 됩니다.\n",
    "```\n",
    "array1 = numpy.full(6, 1)\n",
    "array2 = numpy.ones(6, dtype=int)\n",
    "    \n",
    "print(array1)\n",
    "print()\n",
    "print(array2)\n",
    "```\n",
    "```\n",
    "[1 1 1 1 1 1]\n",
    "\n",
    "[1 1 1 1 1 1]\n",
    "```\n",
    "### np.random 랜덤한 값들로 생성\n",
    "어쩔 때는 임의의 값들로 배열을 생성시키고 싶습니다. 그럴 때는 `numpy`의 `random` 모듈의 `random` 함수를 사용하면 됩니다.\n",
    "\n",
    "`numpy` 모듈 안에 `random`이라는 모듈이 있고, 그 안에 또 `random`이라는 함수가 있는 겁니다!\n",
    "```\n",
    "array1 = numpy.random.random(6)\n",
    "array2 = numpy.random.random(6)\n",
    "    \n",
    "print(array1)\n",
    "print()\n",
    "print(array2)\n",
    "```\n",
    "```\n",
    "[0.42214929 0.45275673 0.57978413 0.61417065 0.39448558 0.03347601]\n",
    "\n",
    "[0.42521953 0.65091589 0.94045742 0.18138103 0.27150749 0.8450694 ]\n",
    "```\n",
    "### np.arange 연속된 값들이 담긴 numpy array 생성\n",
    "`numpy 모듈`의 `arange` 함수를 사용하면 연속된 값들이 담겨 있는 numpy array를 생성할 수 있습니다.\n",
    "\n",
    "`arange` 함수는 파이썬의 기본 함수인 `range`와 굉장히 비슷한 원리로 동작하는데요. 파라미터가 1개인 경우, 2개인 경우, 3개인 경우 모두 살펴봅시다.\n",
    "\n",
    "#### 파라미터 1개\n",
    "`arange(m)`을 하면 `0`부터 `m-1`까지의 값들이 담긴 numpy array가 리턴됩니다.\n",
    "```\n",
    "array1 = numpy.arange(6)\n",
    "print(array1)\n",
    "```\n",
    "```\n",
    "[0 1 2 3 4 5]\n",
    "```\n",
    "#### 파라미터 2개\n",
    "`arange(n, m)`을 하면 `n`부터 `m-1`까지의 값들이 담긴 numpy array가 리턴됩니다.\n",
    "```\n",
    "array1 = numpy.arange(2, 7)\n",
    "print(array1)\n",
    "```\n",
    "```\n",
    "[2 3 4 5 6]\n",
    "```\n",
    "#### 파라미터 3개\n",
    "`arange(n, m, s)`를 하면 `n`부터 `m-1`까지의 값들 중 간격이 `s`인 값들이 담긴 numpy array가 리턴됩니다.\n",
    "```\n",
    "array1 = numpy.arange(3, 17, 3)\n",
    "print(array1)\n",
    "```\n",
    "```\n",
    "[ 3  6  9 12 15]\n",
    "```"
   ]
  },
  {
   "cell_type": "code",
   "execution_count": 1,
   "id": "afdedb7f",
   "metadata": {},
   "outputs": [],
   "source": [
    "import numpy as np"
   ]
  },
  {
   "cell_type": "code",
   "execution_count": 2,
   "id": "06e58c00",
   "metadata": {},
   "outputs": [],
   "source": [
    "array1 = np.array([2,3,4,6,11,13,17,19,23,29,31])"
   ]
  },
  {
   "cell_type": "code",
   "execution_count": 3,
   "id": "f5f847a0",
   "metadata": {},
   "outputs": [
    {
     "data": {
      "text/plain": [
       "array([ 2,  3,  4,  6, 11, 13, 17, 19, 23, 29, 31])"
      ]
     },
     "execution_count": 3,
     "metadata": {},
     "output_type": "execute_result"
    }
   ],
   "source": [
    "array1"
   ]
  },
  {
   "cell_type": "code",
   "execution_count": 4,
   "id": "633a36b8",
   "metadata": {},
   "outputs": [
    {
     "data": {
      "text/plain": [
       "numpy.ndarray"
      ]
     },
     "execution_count": 4,
     "metadata": {},
     "output_type": "execute_result"
    }
   ],
   "source": [
    "type(array1)"
   ]
  },
  {
   "cell_type": "code",
   "execution_count": 5,
   "id": "b957c1c5",
   "metadata": {},
   "outputs": [
    {
     "data": {
      "text/plain": [
       "(11,)"
      ]
     },
     "execution_count": 5,
     "metadata": {},
     "output_type": "execute_result"
    }
   ],
   "source": [
    "array1.shape"
   ]
  },
  {
   "cell_type": "code",
   "execution_count": 7,
   "id": "43883b60",
   "metadata": {},
   "outputs": [],
   "source": [
    "array2 = np.array([[1,2,3,4],[5,6,7,8],[9,10,11,12]])"
   ]
  },
  {
   "cell_type": "code",
   "execution_count": 8,
   "id": "10922ea8",
   "metadata": {},
   "outputs": [
    {
     "data": {
      "text/plain": [
       "numpy.ndarray"
      ]
     },
     "execution_count": 8,
     "metadata": {},
     "output_type": "execute_result"
    }
   ],
   "source": [
    "type(array2)"
   ]
  },
  {
   "cell_type": "code",
   "execution_count": 9,
   "id": "ff656745",
   "metadata": {},
   "outputs": [
    {
     "data": {
      "text/plain": [
       "array([[ 1,  2,  3,  4],\n",
       "       [ 5,  6,  7,  8],\n",
       "       [ 9, 10, 11, 12]])"
      ]
     },
     "execution_count": 9,
     "metadata": {},
     "output_type": "execute_result"
    }
   ],
   "source": [
    "array2"
   ]
  },
  {
   "cell_type": "code",
   "execution_count": 10,
   "id": "7e51b20d",
   "metadata": {},
   "outputs": [
    {
     "data": {
      "text/plain": [
       "(3, 4)"
      ]
     },
     "execution_count": 10,
     "metadata": {},
     "output_type": "execute_result"
    }
   ],
   "source": [
    "array2.shape"
   ]
  },
  {
   "cell_type": "code",
   "execution_count": 11,
   "id": "4b89fbdd",
   "metadata": {},
   "outputs": [
    {
     "data": {
      "text/plain": [
       "11"
      ]
     },
     "execution_count": 11,
     "metadata": {},
     "output_type": "execute_result"
    }
   ],
   "source": [
    "array1.size"
   ]
  },
  {
   "cell_type": "code",
   "execution_count": 12,
   "id": "c7e1a029",
   "metadata": {},
   "outputs": [
    {
     "data": {
      "text/plain": [
       "12"
      ]
     },
     "execution_count": 12,
     "metadata": {},
     "output_type": "execute_result"
    }
   ],
   "source": [
    "array2.size"
   ]
  },
  {
   "cell_type": "markdown",
   "id": "ef481219",
   "metadata": {},
   "source": [
    "# 인덱싱, 슬라이싱"
   ]
  },
  {
   "cell_type": "markdown",
   "id": "66d2659e",
   "metadata": {},
   "source": [
    "## 숫자로 인덱싱"
   ]
  },
  {
   "cell_type": "code",
   "execution_count": 26,
   "id": "b02dd5a3",
   "metadata": {},
   "outputs": [],
   "source": [
    "array1 = np.array([2,3,5,7,11,13,17,19,23,29,31])"
   ]
  },
  {
   "cell_type": "code",
   "execution_count": 27,
   "id": "350b8e35",
   "metadata": {},
   "outputs": [
    {
     "data": {
      "text/plain": [
       "2"
      ]
     },
     "execution_count": 27,
     "metadata": {},
     "output_type": "execute_result"
    }
   ],
   "source": [
    "array1[0]"
   ]
  },
  {
   "cell_type": "code",
   "execution_count": 28,
   "id": "46512da6",
   "metadata": {},
   "outputs": [
    {
     "data": {
      "text/plain": [
       "5"
      ]
     },
     "execution_count": 28,
     "metadata": {},
     "output_type": "execute_result"
    }
   ],
   "source": [
    "array1[2]"
   ]
  },
  {
   "cell_type": "code",
   "execution_count": 29,
   "id": "286d86f7",
   "metadata": {},
   "outputs": [
    {
     "data": {
      "text/plain": [
       "31"
      ]
     },
     "execution_count": 29,
     "metadata": {},
     "output_type": "execute_result"
    }
   ],
   "source": [
    "array1[-1]"
   ]
  },
  {
   "cell_type": "code",
   "execution_count": 30,
   "id": "140e74c9",
   "metadata": {},
   "outputs": [
    {
     "data": {
      "text/plain": [
       "29"
      ]
     },
     "execution_count": 30,
     "metadata": {},
     "output_type": "execute_result"
    }
   ],
   "source": [
    "array1[-2]"
   ]
  },
  {
   "cell_type": "markdown",
   "id": "6a33b220",
   "metadata": {},
   "source": [
    "## 리스트로 인덱싱"
   ]
  },
  {
   "cell_type": "markdown",
   "id": "0cd0e8c3",
   "metadata": {},
   "source": [
    "### 파이썬 리스트로 인덱싱"
   ]
  },
  {
   "cell_type": "code",
   "execution_count": 31,
   "id": "8641f77c",
   "metadata": {},
   "outputs": [
    {
     "data": {
      "text/plain": [
       "array([ 3,  7, 11])"
      ]
     },
     "execution_count": 31,
     "metadata": {},
     "output_type": "execute_result"
    }
   ],
   "source": [
    "# array1의 1번, 3번, 4번 인덱스에 있는 값을 출력\n",
    "array1[[1,3,4]]"
   ]
  },
  {
   "cell_type": "markdown",
   "id": "f298a827",
   "metadata": {},
   "source": [
    "### numpy array로 인덱싱"
   ]
  },
  {
   "cell_type": "code",
   "execution_count": 32,
   "id": "fd0e1904",
   "metadata": {},
   "outputs": [],
   "source": [
    "array2 = np.array([2,1,3])"
   ]
  },
  {
   "cell_type": "code",
   "execution_count": 33,
   "id": "d987610a",
   "metadata": {},
   "outputs": [
    {
     "data": {
      "text/plain": [
       "array([5, 3, 7])"
      ]
     },
     "execution_count": 33,
     "metadata": {},
     "output_type": "execute_result"
    }
   ],
   "source": [
    "# array1의 2번, 1번, 3번 인덱스에 있는 값을 출력\n",
    "array1[array2]"
   ]
  },
  {
   "cell_type": "markdown",
   "id": "d43bd6e2",
   "metadata": {},
   "source": [
    "## 리스트 슬라이싱"
   ]
  },
  {
   "cell_type": "code",
   "execution_count": 34,
   "id": "53a7e6e7",
   "metadata": {},
   "outputs": [
    {
     "data": {
      "text/plain": [
       "array([ 5,  7, 11, 13, 17])"
      ]
     },
     "execution_count": 34,
     "metadata": {},
     "output_type": "execute_result"
    }
   ],
   "source": [
    "array1[2:7]"
   ]
  },
  {
   "cell_type": "code",
   "execution_count": 35,
   "id": "a48ef7aa",
   "metadata": {},
   "outputs": [
    {
     "data": {
      "text/plain": [
       "array([ 2,  3,  5,  7, 11, 13, 17])"
      ]
     },
     "execution_count": 35,
     "metadata": {},
     "output_type": "execute_result"
    }
   ],
   "source": [
    "array1[:7]"
   ]
  },
  {
   "cell_type": "code",
   "execution_count": 37,
   "id": "3c74f3ea",
   "metadata": {},
   "outputs": [
    {
     "data": {
      "text/plain": [
       "array([2, 3])"
      ]
     },
     "execution_count": 37,
     "metadata": {},
     "output_type": "execute_result"
    }
   ],
   "source": [
    "array1[:2]"
   ]
  },
  {
   "cell_type": "code",
   "execution_count": 39,
   "id": "95103696",
   "metadata": {},
   "outputs": [
    {
     "data": {
      "text/plain": [
       "array([ 5, 11, 17, 23, 31])"
      ]
     },
     "execution_count": 39,
     "metadata": {},
     "output_type": "execute_result"
    }
   ],
   "source": [
    "array1[2:11:2]"
   ]
  },
  {
   "cell_type": "code",
   "execution_count": 40,
   "id": "aae7cc53",
   "metadata": {},
   "outputs": [
    {
     "data": {
      "text/plain": [
       "array([ 5, 13, 23])"
      ]
     },
     "execution_count": 40,
     "metadata": {},
     "output_type": "execute_result"
    }
   ],
   "source": [
    "array1[2:11:3]"
   ]
  },
  {
   "cell_type": "markdown",
   "id": "5b29d999",
   "metadata": {},
   "source": [
    "# numpy 기본 연산"
   ]
  },
  {
   "cell_type": "code",
   "execution_count": 42,
   "id": "961ed036",
   "metadata": {},
   "outputs": [],
   "source": [
    "array1 = np.arange(10)\n",
    "array2 = np.arange(10, 20)"
   ]
  },
  {
   "cell_type": "code",
   "execution_count": 43,
   "id": "8d7416d1",
   "metadata": {},
   "outputs": [
    {
     "data": {
      "text/plain": [
       "array([0, 1, 2, 3, 4, 5, 6, 7, 8, 9])"
      ]
     },
     "execution_count": 43,
     "metadata": {},
     "output_type": "execute_result"
    }
   ],
   "source": [
    "array1"
   ]
  },
  {
   "cell_type": "code",
   "execution_count": 44,
   "id": "2dd8ebef",
   "metadata": {},
   "outputs": [
    {
     "data": {
      "text/plain": [
       "array([10, 11, 12, 13, 14, 15, 16, 17, 18, 19])"
      ]
     },
     "execution_count": 44,
     "metadata": {},
     "output_type": "execute_result"
    }
   ],
   "source": [
    "array2"
   ]
  },
  {
   "cell_type": "code",
   "execution_count": 45,
   "id": "d52d91a2",
   "metadata": {},
   "outputs": [
    {
     "data": {
      "text/plain": [
       "array([ 0,  2,  4,  6,  8, 10, 12, 14, 16, 18])"
      ]
     },
     "execution_count": 45,
     "metadata": {},
     "output_type": "execute_result"
    }
   ],
   "source": [
    "array1 * 2"
   ]
  },
  {
   "cell_type": "code",
   "execution_count": 46,
   "id": "2fee4e84",
   "metadata": {},
   "outputs": [
    {
     "data": {
      "text/plain": [
       "array([0. , 0.5, 1. , 1.5, 2. , 2.5, 3. , 3.5, 4. , 4.5])"
      ]
     },
     "execution_count": 46,
     "metadata": {},
     "output_type": "execute_result"
    }
   ],
   "source": [
    "array1 / 2"
   ]
  },
  {
   "cell_type": "code",
   "execution_count": 47,
   "id": "9d1eca4f",
   "metadata": {},
   "outputs": [
    {
     "data": {
      "text/plain": [
       "array([ 2,  3,  4,  5,  6,  7,  8,  9, 10, 11])"
      ]
     },
     "execution_count": 47,
     "metadata": {},
     "output_type": "execute_result"
    }
   ],
   "source": [
    "array1 + 2"
   ]
  },
  {
   "cell_type": "code",
   "execution_count": 48,
   "id": "35627fe3",
   "metadata": {},
   "outputs": [
    {
     "data": {
      "text/plain": [
       "array([ 0,  1,  4,  9, 16, 25, 36, 49, 64, 81], dtype=int32)"
      ]
     },
     "execution_count": 48,
     "metadata": {},
     "output_type": "execute_result"
    }
   ],
   "source": [
    "array1 ** 2"
   ]
  },
  {
   "cell_type": "code",
   "execution_count": 49,
   "id": "3609e791",
   "metadata": {},
   "outputs": [
    {
     "data": {
      "text/plain": [
       "array([0, 1, 2, 3, 4, 5, 6, 7, 8, 9])"
      ]
     },
     "execution_count": 49,
     "metadata": {},
     "output_type": "execute_result"
    }
   ],
   "source": [
    "array1"
   ]
  },
  {
   "cell_type": "code",
   "execution_count": 50,
   "id": "8a411e70",
   "metadata": {},
   "outputs": [],
   "source": [
    "array1 = array1 * 2"
   ]
  },
  {
   "cell_type": "code",
   "execution_count": 51,
   "id": "25ece94a",
   "metadata": {},
   "outputs": [
    {
     "data": {
      "text/plain": [
       "array([ 0,  2,  4,  6,  8, 10, 12, 14, 16, 18])"
      ]
     },
     "execution_count": 51,
     "metadata": {},
     "output_type": "execute_result"
    }
   ],
   "source": [
    "array1"
   ]
  },
  {
   "cell_type": "code",
   "execution_count": 52,
   "id": "bfda009d",
   "metadata": {},
   "outputs": [],
   "source": [
    "array1 = np.arange(10)\n",
    "array2 = np.arange(10, 20)"
   ]
  },
  {
   "cell_type": "code",
   "execution_count": 53,
   "id": "b592f6ea",
   "metadata": {},
   "outputs": [
    {
     "data": {
      "text/plain": [
       "array([0, 1, 2, 3, 4, 5, 6, 7, 8, 9])"
      ]
     },
     "execution_count": 53,
     "metadata": {},
     "output_type": "execute_result"
    }
   ],
   "source": [
    "array1"
   ]
  },
  {
   "cell_type": "code",
   "execution_count": 54,
   "id": "a37a8963",
   "metadata": {},
   "outputs": [
    {
     "data": {
      "text/plain": [
       "array([10, 11, 12, 13, 14, 15, 16, 17, 18, 19])"
      ]
     },
     "execution_count": 54,
     "metadata": {},
     "output_type": "execute_result"
    }
   ],
   "source": [
    "array2"
   ]
  },
  {
   "cell_type": "code",
   "execution_count": 55,
   "id": "beab6562",
   "metadata": {},
   "outputs": [
    {
     "data": {
      "text/plain": [
       "array([10, 12, 14, 16, 18, 20, 22, 24, 26, 28])"
      ]
     },
     "execution_count": 55,
     "metadata": {},
     "output_type": "execute_result"
    }
   ],
   "source": [
    "array1 + array2"
   ]
  },
  {
   "cell_type": "code",
   "execution_count": 56,
   "id": "df22b031",
   "metadata": {},
   "outputs": [
    {
     "data": {
      "text/plain": [
       "array([  0,  11,  24,  39,  56,  75,  96, 119, 144, 171])"
      ]
     },
     "execution_count": 56,
     "metadata": {},
     "output_type": "execute_result"
    }
   ],
   "source": [
    "array1 * array2"
   ]
  },
  {
   "cell_type": "code",
   "execution_count": 58,
   "id": "f2e33e45",
   "metadata": {},
   "outputs": [
    {
     "data": {
      "text/plain": [
       "array([0.        , 0.09090909, 0.16666667, 0.23076923, 0.28571429,\n",
       "       0.33333333, 0.375     , 0.41176471, 0.44444444, 0.47368421])"
      ]
     },
     "execution_count": 58,
     "metadata": {},
     "output_type": "execute_result"
    }
   ],
   "source": [
    "array1 / array2"
   ]
  },
  {
   "cell_type": "markdown",
   "id": "060bab35",
   "metadata": {},
   "source": [
    "# 실습문제 1\n",
    "\n",
    "일본에는 한식 열풍이 불고 있습니다. 기회를 엿본 영훈이는 대기업을 퇴사하고 신주쿠에 프랜차이즈 ‘흥부부대찌개’ 가맹점을 냈습니다.\n",
    "\n",
    "그러나 보수적인 아버지께서는 번듯한 직장을 박차고 나온 영훈이가 못마땅합니다. 아버지를 안심시켜 드리기 위해 매달 매출을 보고하려고 하는데요. 엔화(¥)로 저장한 매출 데이터를 원화(₩)로 변환하는 작업이 필요합니다.\n",
    "\n",
    "마침 numpy를 배운 우리가 도와줄 수 있겠네요. 엔화 매출이 담겨 있는 파이썬 리스트가 주어졌습니다. 1엔에 10.08원이라고 가정하고, 원화 매출이 담긴 numpy array를 만들어 출력해 주세요.\n",
    "\n",
    "반복문은 사용하면 안 됩니다!"
   ]
  },
  {
   "cell_type": "code",
   "execution_count": 59,
   "id": "9f1df0fb",
   "metadata": {},
   "outputs": [
    {
     "data": {
      "text/plain": [
       "array([3024000., 3427200., 3225600., 3628800., 4435200., 1411200.,\n",
       "       1814400., 3427200., 3326400., 2923200., 2822400., 3830400.,\n",
       "       1713600., 1411200., 2318400., 3931200., 4032000., 3528000.,\n",
       "       3830400., 1512000., 1108800., 2419200., 3830400., 3830400.,\n",
       "       3427200., 4233600., 1512000., 1310400., 3628800., 3225600.,\n",
       "       2520000.])"
      ]
     },
     "execution_count": 59,
     "metadata": {},
     "output_type": "execute_result"
    }
   ],
   "source": [
    "import numpy as np\n",
    "\n",
    "revenue_in_yen = [\n",
    "    300000, 340000, 320000, 360000, \n",
    "    440000, 140000, 180000, 340000, \n",
    "    330000, 290000, 280000, 380000, \n",
    "    170000, 140000, 230000, 390000, \n",
    "    400000, 350000, 380000, 150000, \n",
    "    110000, 240000, 380000, 380000, \n",
    "    340000, 420000, 150000, 130000, \n",
    "    360000, 320000, 250000\n",
    "]\n",
    "\n",
    "# 여기에 코드를 작성하세요\n",
    "np_revenue_in_yen = np.array(revenue_in_yen)\n",
    "won_array = np_revenue_in_yen * 10.08\n",
    "\n",
    "# 테스트 코드\n",
    "won_array"
   ]
  },
  {
   "cell_type": "markdown",
   "id": "efa10fb0",
   "metadata": {},
   "source": [
    "# 실습문제 2\n",
    "\n",
    "흥부부대찌개 신주쿠점의 흥행에 성공한 영훈이는 여세를 몰아 LA에도 가맹점을 하나 냈습니다.\n",
    "\n",
    "이제 아버지께 매출을 보고하기 위한 프로세스가 조금 복잡해졌습니다. 각 지점의 매출을 원화로 변환시키고 더해야 하죠. 1엔에 10.08원, 1달러에 1138원이라고 가정하세요. 그리고 두 지점의 매출의 합이 원화로 담긴 numpy array를 만들어 출력해주세요.\n",
    "\n",
    "반복문은 사용하면 안 됩니다!"
   ]
  },
  {
   "cell_type": "code",
   "execution_count": 60,
   "id": "ccbf4fe8",
   "metadata": {},
   "outputs": [
    {
     "data": {
      "text/plain": [
       "array([4389600., 5248000., 4818800., 5108200., 6825000., 3004400.,\n",
       "       3521400., 5817000., 5033400., 4630200., 5439800., 6220200.,\n",
       "       4900000., 4370000., 4253000., 5524400., 6421800., 6145400.,\n",
       "       5651200., 3560400., 3612400., 5150400., 6220200., 7016800.,\n",
       "       5589400., 6623400., 3560400., 3814000., 6018600., 5046400.,\n",
       "       4568400.])"
      ]
     },
     "execution_count": 60,
     "metadata": {},
     "output_type": "execute_result"
    }
   ],
   "source": [
    "import numpy as np\n",
    "\n",
    "revenue_in_yen = [\n",
    "    300000, 340000, 320000, 360000, \n",
    "    440000, 140000, 180000, 340000, \n",
    "    330000, 290000, 280000, 380000, \n",
    "    170000, 140000, 230000, 390000, \n",
    "    400000, 350000, 380000, 150000, \n",
    "    110000, 240000, 380000, 380000, \n",
    "    340000, 420000, 150000, 130000, \n",
    "    360000, 320000, 250000\n",
    "]\n",
    "\n",
    "revenue_in_dollar = [\n",
    "    1200, 1600, 1400, 1300, \n",
    "    2100, 1400, 1500, 2100, \n",
    "    1500, 1500, 2300, 2100, \n",
    "    2800, 2600, 1700, 1400, \n",
    "    2100, 2300, 1600, 1800, \n",
    "    2200, 2400, 2100, 2800, \n",
    "    1900, 2100, 1800, 2200, \n",
    "    2100, 1600, 1800\n",
    "]\n",
    "\n",
    "# 여기에 코드를 작성하세요\n",
    "yen_array = np.array(revenue_in_yen)\n",
    "dollar_array = np.array(revenue_in_dollar)\n",
    "\n",
    "won_array_shin = yen_array * 10.08\n",
    "won_array_la = dollar_array * 1138\n",
    "\n",
    "won_array = won_array_shin + won_array_la\n",
    "\n",
    "# 테스트 코드\n",
    "won_array"
   ]
  },
  {
   "cell_type": "markdown",
   "id": "35a6b946",
   "metadata": {},
   "source": [
    "# numpy 불린 연산"
   ]
  },
  {
   "cell_type": "code",
   "execution_count": 61,
   "id": "d704196e",
   "metadata": {},
   "outputs": [],
   "source": [
    "array1 = np.array([2, 3, 5, 7, 11, 13, 17, 19, 23, 28, 31])"
   ]
  },
  {
   "cell_type": "code",
   "execution_count": 62,
   "id": "ce340e5f",
   "metadata": {},
   "outputs": [
    {
     "data": {
      "text/plain": [
       "array([False, False,  True,  True,  True,  True,  True,  True,  True,\n",
       "        True,  True])"
      ]
     },
     "execution_count": 62,
     "metadata": {},
     "output_type": "execute_result"
    }
   ],
   "source": [
    "array1 > 4  # 출력값 : boolean이 담긴 numpy array"
   ]
  },
  {
   "cell_type": "code",
   "execution_count": 63,
   "id": "4729f942",
   "metadata": {},
   "outputs": [
    {
     "data": {
      "text/plain": [
       "array([ True, False, False, False, False, False, False, False, False,\n",
       "        True, False])"
      ]
     },
     "execution_count": 63,
     "metadata": {},
     "output_type": "execute_result"
    }
   ],
   "source": [
    "array1 % 2 == 0"
   ]
  },
  {
   "cell_type": "code",
   "execution_count": 64,
   "id": "59855a90",
   "metadata": {},
   "outputs": [],
   "source": [
    "booleans = np.array([True, True, False, True, True, False, True, True, True, False, True])"
   ]
  },
  {
   "cell_type": "code",
   "execution_count": 66,
   "id": "6a6fef83",
   "metadata": {},
   "outputs": [
    {
     "data": {
      "text/plain": [
       "(array([ 0,  1,  3,  4,  6,  7,  8, 10], dtype=int64),)"
      ]
     },
     "execution_count": 66,
     "metadata": {},
     "output_type": "execute_result"
    }
   ],
   "source": [
    "# where 함수 : numpy array에서 True가 담긴 인덱스만 출력\n",
    "np.where(booleans)"
   ]
  },
  {
   "cell_type": "code",
   "execution_count": 67,
   "id": "50e9d1eb",
   "metadata": {},
   "outputs": [
    {
     "data": {
      "text/plain": [
       "(array([ 2,  3,  4,  5,  6,  7,  8,  9, 10], dtype=int64),)"
      ]
     },
     "execution_count": 67,
     "metadata": {},
     "output_type": "execute_result"
    }
   ],
   "source": [
    "# array1에서 4보다 큰 값들이 있는 인덱스만 출력\n",
    "np.where(array1 > 4)"
   ]
  },
  {
   "cell_type": "markdown",
   "id": "2661fca1",
   "metadata": {},
   "source": [
    "'array1에서 4보다 크다'라는 조건을 출력하는 값들만 이용해 필터링"
   ]
  },
  {
   "cell_type": "code",
   "execution_count": 68,
   "id": "0ae14430",
   "metadata": {},
   "outputs": [
    {
     "data": {
      "text/plain": [
       "(array([ 2,  3,  4,  5,  6,  7,  8,  9, 10], dtype=int64),)"
      ]
     },
     "execution_count": 68,
     "metadata": {},
     "output_type": "execute_result"
    }
   ],
   "source": [
    "filter = np.where(array1 > 4)\n",
    "filter"
   ]
  },
  {
   "cell_type": "code",
   "execution_count": 69,
   "id": "37238551",
   "metadata": {},
   "outputs": [
    {
     "data": {
      "text/plain": [
       "array([ 5,  7, 11, 13, 17, 19, 23, 28, 31])"
      ]
     },
     "execution_count": 69,
     "metadata": {},
     "output_type": "execute_result"
    }
   ],
   "source": [
    "array1[filter]"
   ]
  },
  {
   "cell_type": "markdown",
   "id": "5096964d",
   "metadata": {},
   "source": [
    "# 실습문제 3\n",
    "영훈이가 창업한 흥부부대찌개 신주쿠점은 이제 직장인들에게 소문난 맛집입니다. 그러나 매일같이 성공적인 것은 아닙니다. 목표 일 매출을 달성하지 못하는 날들이 아직 꽤 있거든요. 영훈이가 생각하는 성공적인 하루 매출은 20만 엔입니다.\n",
    "\n",
    "성공적이지 않은 날의 매출만 골라서 보고 싶습니다. 20만 엔 이하의 매출만 담긴 numpy array를 출력해주세요.\n",
    "반복문은 사용하면 안 됩니다!"
   ]
  },
  {
   "cell_type": "code",
   "execution_count": 73,
   "id": "9bbc68c7",
   "metadata": {},
   "outputs": [
    {
     "data": {
      "text/plain": [
       "array([140000, 180000, 170000, 140000, 150000, 110000, 150000, 130000])"
      ]
     },
     "execution_count": 73,
     "metadata": {},
     "output_type": "execute_result"
    }
   ],
   "source": [
    "import numpy as np\n",
    "\n",
    "revenue_in_yen = [\n",
    "    300000, 340000, 320000, 360000, \n",
    "    440000, 140000, 180000, 340000, \n",
    "    330000, 290000, 280000, 380000, \n",
    "    170000, 140000, 230000, 390000, \n",
    "    400000, 350000, 380000, 150000, \n",
    "    110000, 240000, 380000, 380000, \n",
    "    340000, 420000, 150000, 130000, \n",
    "    360000, 320000, 250000\n",
    "]\n",
    "\n",
    "# revenue_in_yen을 numpy array로 리턴\n",
    "revenue_array = np.array(revenue_in_yen)\n",
    "\n",
    "# 20만 엔 이하의 매출만 담긴 np arr 필터링\n",
    "filter = np.where(revenue_array <= 200000)\n",
    "\n",
    "# revenue_array에 필터 적용\n",
    "bad_days_revenue = revenue_array[filter]\n",
    "\n",
    "# 테스트 코드\n",
    "bad_days_revenue"
   ]
  },
  {
   "cell_type": "markdown",
   "id": "0ee3a4af",
   "metadata": {},
   "source": [
    "### Q. 기본 파이썬 리스트가 있는데 numpy array를 사용하는 이유?  \n",
    "#### 1. 문법 차이\n",
    "덧셈>\n",
    "- numpy array : 같은 인덱스에 있는 값 끼리 더함  \n",
    "[10, 5, 3, 7, 1, 5] + [10, 5, 3, 7, 1, 5] = [20, 10, 6, 14, 2, 10]\n",
    "- python list : 두 리스트를 이어줌  \n",
    "[10, 5, 3, 7, 1, 5] + [10, 5, 3, 7, 1, 5] = [10, 5, 3, 7, 1, 5, 10, 5, 3, 7, 1, 5]\n",
    "\n",
    "덧셈, 뺄셈, 나눗셈> [10, 5, 3, 7, 1, 5] + 5\n",
    "- numpy array : 배열에 있는 각각의 값에 더함 [15, 10, 8, 12, 6, 10] \n",
    "- python list : 오류남\n",
    "\n",
    "곱셈> [10, 5, 3, 7, 1, 5] * 5\n",
    "- numpy array : 배열에 있는 각각의 값에 곱함 \n",
    "- python list : 있던 값들이 여러 번 반복\n",
    "\n",
    "#### 2. 성능 차이\n",
    "- numpy array : 같은 자료형의 값들만 넣을 수 있음 (속도 개선)  \n",
    "→ 수치 계산이 많고 복잡할 때/ 행렬같은 다차원 배열의 경우\n",
    "- python list : 다양한 자료형들을 한꺼번에 넣을 수 있음  \n",
    "→ 값을 추가하고 제거하는 일\n"
   ]
  },
  {
   "cell_type": "markdown",
   "id": "6fd6b2a5",
   "metadata": {},
   "source": [
    "---"
   ]
  },
  {
   "cell_type": "markdown",
   "id": "dac84b9d",
   "metadata": {},
   "source": [
    "# numpy 기본 통계  \n",
    "numpy 라이브러리는 기본적인 통계 기능도 제공합니다.\n",
    "\n",
    "## 최댓값, 최솟값\n",
    "`max` 메소드와 `min` 메소드를 사용하면 numpy array의 최댓값과 최솟값을 구할 수 있습니다.\n",
    "```\n",
    "import numpy as np\n",
    "\n",
    "array1 = np.array([14, 6, 13, 21, 23, 31, 9, 5])\n",
    "\n",
    "print(array1.max()) # 최댓값\n",
    "print(array1.min()) # 최솟값\n",
    "```\n",
    "```\n",
    "31\n",
    "5\n",
    "```\n",
    "## 평균값\n",
    "`mean` 메소드를 사용하면 numpy array의 평균값을 구할 수 있습니다.\n",
    "```\n",
    "import numpy as np\n",
    "\n",
    "array1 = np.array([14, 6, 13, 21, 23, 31, 9, 5])\n",
    "\n",
    "print(array1.mean()) # 평균값\n",
    "```\n",
    "```\n",
    "15.25\n",
    "```\n",
    "위 예시에서, 총합(14+6+13+21+23+31+9+5)을 총 개수(8)로 나누면 15.25입니다.\n",
    "\n",
    "## 중앙값\n",
    "`median` 메소드를 사용하면 중간값을 구할 수 있는데요. 특이하게 `median`은 numpy array의 메소드가 아니라 numpy의 메소드입니다.\n",
    "```\n",
    "import numpy as np\n",
    "\n",
    "array1 = np.array([8, 12, 9, 15, 16])\n",
    "array2 = np.array([14, 6, 13, 21, 23, 31, 9, 5])\n",
    "\n",
    "print(np.median(array1)) # 중앙값\n",
    "print(np.median(array2)) # 중앙값\n",
    "```\n",
    "```\n",
    "12.0\n",
    "13.5\n",
    "```\n",
    "`array1`을 정렬하면 중앙값이 12입니다.  \n",
    "`array2`에는 짝수개의 요소가 있기 때문에 중앙값이 13과 14 두 개입니다. 둘의 평균값을 내면 13.5입니다.\n",
    "\n",
    "## 표준 편차, 분산\n",
    "표준 편차와 분산은 값들이 평균에서 얼마나 떨어져 있는지 나타내는 지표입니다.\n",
    "```\n",
    "import numpy as np\n",
    "\n",
    "array1 = np.array([14, 6, 13, 21, 23, 31, 9, 5])\n",
    "\n",
    "print(array1.std()) # 표준 편차\n",
    "print(array1.var()) # 분산\n",
    "```\n",
    "```\n",
    "8.496322733983215\n",
    "72.1875\n",
    "```"
   ]
  }
 ],
 "metadata": {
  "kernelspec": {
   "display_name": "Python 3 (ipykernel)",
   "language": "python",
   "name": "python3"
  },
  "language_info": {
   "codemirror_mode": {
    "name": "ipython",
    "version": 3
   },
   "file_extension": ".py",
   "mimetype": "text/x-python",
   "name": "python",
   "nbconvert_exporter": "python",
   "pygments_lexer": "ipython3",
   "version": "3.9.13"
  }
 },
 "nbformat": 4,
 "nbformat_minor": 5
}
